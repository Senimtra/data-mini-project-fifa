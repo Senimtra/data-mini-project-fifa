{
 "cells": [
  {
   "cell_type": "code",
   "execution_count": null,
   "id": "a530e8fd",
   "metadata": {},
   "outputs": [],
   "source": [
    "# Imports\n",
    "\n",
    "import pandas as pd\n",
    "import matplotlib.pyplot as plt\n",
    "import seaborn as sns\n",
    "\n",
    "from sklearn.preprocessing import MinMaxScaler\n",
    "from sklearn import linear_model"
   ]
  },
  {
   "cell_type": "code",
   "execution_count": null,
   "id": "f826ef00",
   "metadata": {},
   "outputs": [],
   "source": [
    "# Discover data set\n",
    "\n",
    "fifa = pd.read_csv('fifa21_male2.csv', low_memory = False)\n",
    "\n",
    "fifa.head()"
   ]
  },
  {
   "cell_type": "code",
   "execution_count": null,
   "id": "13f341b6",
   "metadata": {},
   "outputs": [],
   "source": [
    "# Convert 'Height'\n",
    "\n",
    "conversions = [30.48, 2.54]\n",
    "fifa['Height'] = fifa['Height'].str.replace('\"','')\n",
    "fifa['Height'] = fifa['Height'].str.split(\"'\").apply(pd.Series).astype(int).dot(conversions)\n",
    "\n",
    "fifa['Height'].head()"
   ]
  },
  {
   "cell_type": "code",
   "execution_count": null,
   "id": "a4fdce11",
   "metadata": {},
   "outputs": [],
   "source": [
    "# Filter goal-keepers\n",
    "\n",
    "fifa = fifa[fifa['Position']=='GK']\n",
    "\n",
    "fifa.head()"
   ]
  },
  {
   "cell_type": "code",
   "execution_count": null,
   "id": "c26e04fc",
   "metadata": {},
   "outputs": [],
   "source": [
    "# Select model columns\n",
    "\n",
    "fifa = fifa[['ID', 'Name', 'Age', 'Height', 'OVA', 'POT', 'Goalkeeping', 'GK Diving', 'GK Handling', 'GK Kicking', 'GK Positioning', 'GK Reflexes', 'Total Stats', 'Base Stats', 'IR']]\n",
    "\n",
    "fifa.head() "
   ]
  },
  {
   "cell_type": "code",
   "execution_count": null,
   "id": "71636875",
   "metadata": {},
   "outputs": [],
   "source": [
    "# Convert international rating\n",
    "\n",
    "fifa['IR'] = fifa['IR'].str.replace('★', '').astype('int')\n",
    "\n",
    "fifa.head()"
   ]
  },
  {
   "cell_type": "code",
   "execution_count": null,
   "id": "1c1965c0",
   "metadata": {},
   "outputs": [],
   "source": [
    "# Correlation matrix\n",
    "\n",
    "sns.set(rc = {'figure.figsize': (12, 6)})\n",
    "sns.heatmap(fifa.corr(), annot = True)"
   ]
  },
  {
   "cell_type": "code",
   "execution_count": null,
   "id": "c81fc82a",
   "metadata": {},
   "outputs": [],
   "source": [
    "# Normalize columns\n",
    "\n",
    "normalizer = MinMaxScaler()\n",
    "\n",
    "fifa[['OVA', 'Goalkeeping', 'IR', 'Total Stats', 'Base Stats', 'GK Diving', 'GK Handling', 'GK Kicking', 'GK Positioning', 'GK Reflexes', 'Height']] = normalizer.fit_transform(fifa[['OVA', 'Goalkeeping', 'IR', 'Total Stats', 'Base Stats', 'GK Diving', 'GK Handling', 'GK Kicking', 'GK Positioning', 'GK Reflexes', 'Height']])"
   ]
  },
  {
   "cell_type": "code",
   "execution_count": null,
   "id": "82ca2b28",
   "metadata": {},
   "outputs": [],
   "source": [
    "# Hot-one-encode 'Age'\n",
    "\n",
    "fifa = pd.get_dummies(fifa, columns = ['Age'], drop_first = True)\n",
    "\n",
    "fifa = fifa[['ID', 'Age_17', 'Age_18', 'Age_19', 'Age_20', 'Age_21', 'Age_22', 'Age_23', 'Age_24', 'Age_25', 'Age_26', 'Age_27', 'Age_28', 'Age_29', 'Age_30', 'Age_31', 'Age_32', 'Age_33', 'Age_34', 'Age_35', 'Age_36', 'Age_37', 'Age_38', 'Age_39', 'Age_40', 'Age_41', 'Age_42', 'Age_43', 'Age_47', 'Height', 'OVA', 'POT', 'Goalkeeping', 'GK Diving', 'GK Handling', 'GK Kicking', 'GK Positioning', 'GK Reflexes', 'Total Stats', 'Base Stats','IR']]"
   ]
  },
  {
   "cell_type": "code",
   "execution_count": null,
   "id": "9564eb38",
   "metadata": {},
   "outputs": [],
   "source": [
    "# Assign model features\n",
    "\n",
    "X = fifa.drop(columns = ['POT'])\n",
    "y = fifa['POT']"
   ]
  },
  {
   "cell_type": "code",
   "execution_count": null,
   "id": "a36c1b6f",
   "metadata": {},
   "outputs": [],
   "source": [
    "# Train model\n",
    "\n",
    "model = linear_model.LinearRegression()\n",
    "result = model.fit(X, y)"
   ]
  },
  {
   "cell_type": "code",
   "execution_count": null,
   "id": "e597f3d9",
   "metadata": {},
   "outputs": [],
   "source": [
    "# Check model\n",
    "\n",
    "result.score(X, y)"
   ]
  },
  {
   "cell_type": "code",
   "execution_count": null,
   "id": "0fd36501",
   "metadata": {},
   "outputs": [],
   "source": [
    "### M. NEUER\n",
    "\n",
    "neuer = pd.read_csv('fifa21_male2.csv', usecols = ['Name', 'ID', 'Age', 'Height', 'POT', 'OVA', 'Goalkeeping', 'GK Diving', 'GK Handling', 'GK Kicking', 'GK Positioning', 'GK Reflexes', 'Total Stats', 'Base Stats', 'IR'])\n",
    "neuer = neuer[neuer['Name'] == 'M. Neuer']\n",
    "neuer['Height'] = neuer['Height'] = 184\n",
    "display(neuer)\n",
    "\n",
    "neuer_check = pd.DataFrame([{'ID': 0.64582, 'Age_17': 0, 'Age_18': 0, 'Age_19': 0, 'Age_20': 0, 'Age_21': 0, 'Age_22': 0, 'Age_23': 0, 'Age_24': 0, 'Age_25': 0, 'Age_26': 0, 'Age_27': 0, 'Age_28': 0, 'Age_29': 0, 'Age_30': 0, 'Age_31': 0, 'Age_32': 0, 'Age_33': 0, 'Age_34': 1, 'Age_35': 0, 'Age_36': 0, 'Age_37': 0, 'Age_38': 0, 'Age_39': 0, 'Age_40': 0, 'Age_41': 0, 'Age_42': 0, 'Age_43': 0, 'Age_47': 0, 'Height': 0.341611, 'OVA': 0.956522, 'Goalkeeping': 1.0, 'GK Diving': 0.941176, 'GK Handling': 0.901961, 'GK Kicking': 0.962264, 'GK Positioning': 0.87037, 'GK Reflexes': 0.982759, 'Total Stats': 0.900115, 'Base Stats': 0.996047, 'IR': 1.0}])\n",
    "\n",
    "### NOTES\n",
    "\n",
    "# Input will only need age, height and reflexes - separated by spaces \"Age Height Reflexes\".\n",
    "# For everything else, the average of the respective column is assumed.\n",
    "# IR = 0, for it is a new player\n",
    "\n",
    "# For example: \"20 180 50\"\n",
    "\n",
    "### SETUP DATA\n",
    "\n",
    "# Read needed columns\n",
    "check_fifa = pd.read_csv('fifa21_male2.csv', usecols = ['ID', 'Age', 'Height', 'OVA', 'Goalkeeping', 'GK Diving', 'GK Handling', 'GK Kicking', 'GK Positioning', 'GK Reflexes', 'Total Stats', 'Base Stats', 'Position'])\n",
    "\n",
    "# Shift 'Height' column\n",
    "height_column = check_fifa.pop('Height')\n",
    "check_fifa.insert(2, 'Height', height_column)\n",
    "\n",
    "# Select goalkeepers + drop 'Position'\n",
    "check_fifa = check_fifa[check_fifa['Position'] == 'GK'].drop('Position', axis = 1)\n",
    "\n",
    "# Convert height\n",
    "check_fifa['Height'] = check_fifa['Height'].str.replace('\"','')\n",
    "check_fifa['Height'] = check_fifa['Height'].str.split(\"'\").apply(pd.Series).astype(int).dot([30.48, 2.54])\n",
    "\n",
    "# CREATE CHECK DICT\n",
    "\n",
    "# This is our new player test data frame with mean values\n",
    "check_dict = dict(zip(check_fifa.columns, check_fifa.mean()))\n",
    "\n",
    "# USER INPUT AGE / HEIGHT / REFLEXES\n",
    "\n",
    "# Ranges\n",
    "range_age = 'age', check_fifa['Age'].min(), check_fifa['Age'].max()\n",
    "range_height = 'height', check_fifa['Height'].min(), check_fifa['Height'].max()\n",
    "range_reflexes = 'reflexes', check_fifa['GK Reflexes'].min(), check_fifa['GK Reflexes'].max()\n",
    "\n",
    "# Input 'Age Height Reflexes'\n",
    "def input_user(check_dict):\n",
    "   user = input(f'NEW GOALKEEPER (Age, Height, Reflexes => e.g. \"20 180 50\")')\n",
    "   user = user.split(' ')\n",
    "   if int(user[0]) in set(check_fifa['Age']):\n",
    "      insert_user(user[0], user[1], user[2], check_dict)\n",
    "   else:\n",
    "      input_user(check_dict)\n",
    "\n",
    "# Set up user test data\n",
    "def insert_user(user_age, user_height, user_reflexes, check_dict):\n",
    "   new_keys = list(check_dict.keys())\n",
    "   new_values = list(check_dict.values())\n",
    "   # Build up dummified age columns\n",
    "   for age in reversed(list(set(check_fifa['Age']))):\n",
    "      new_keys.insert(1, f'Age_{age}')\n",
    "      new_values.insert(1, 0)\n",
    "   check_dict = dict(zip(new_keys, new_values))\n",
    "   del check_dict['Age']\n",
    "   del check_dict['Age_16']\n",
    "   check_dict['IR'] = 0\n",
    "   # Set user input values\n",
    "   check_dict[f'Age_{user_age}'] = 1\n",
    "   check_dict['Height'] = int(user_height)\n",
    "   check_dict['GK Reflexes'] = int(user_reflexes)\n",
    "   normalize_test(check_dict)\n",
    "\n",
    "# Normalize test data\n",
    "def normalize_test(check_dict):\n",
    "   for key, value in check_dict.items():\n",
    "      if key in check_fifa.columns:\n",
    "         min_val = check_fifa[key].min()\n",
    "         max_val = check_fifa[key].max()\n",
    "         check_dict[key] = (check_dict[key] - min_val) / (max_val - min_val)\n",
    "   predict_user(check_dict)\n",
    "\n",
    "# Predict user\n",
    "def predict_user(check_dict):\n",
    "   print('\\n' + 'Our prediction for the new goalkeeper: POT', result.predict(pd.DataFrame([check_dict])))\n",
    "\n",
    "print('92% model prediction for \"Manuel Neuer\"', result.predict(neuer_check))\n",
    "   \n",
    "input_user(check_dict)\n"
   ]
  }
 ],
 "metadata": {
  "kernelspec": {
   "display_name": "Python 3.9.12 ('base')",
   "language": "python",
   "name": "python3"
  },
  "language_info": {
   "codemirror_mode": {
    "name": "ipython",
    "version": 3
   },
   "file_extension": ".py",
   "mimetype": "text/x-python",
   "name": "python",
   "nbconvert_exporter": "python",
   "pygments_lexer": "ipython3",
   "version": "3.9.12"
  },
  "vscode": {
   "interpreter": {
    "hash": "3a677cc3a62f2d81855f233fae469a5f43f070d97a640d213221ee6c91be41b5"
   }
  }
 },
 "nbformat": 4,
 "nbformat_minor": 5
}
